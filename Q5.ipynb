{
 "cells": [
  {
   "cell_type": "markdown",
   "id": "e363f51e",
   "metadata": {},
   "source": [
    "### Q5. Read about the Tower of Hanoi algorithm. Write a program to implement it."
   ]
  },
  {
   "cell_type": "code",
   "execution_count": 3,
   "id": "39e3f58c",
   "metadata": {},
   "outputs": [],
   "source": [
    "def moveTower(numDisks, source_stack, buffer_stack, dest_stack):\n",
    "    if numDisks == 1:\n",
    "        dest_stack.append(source_stack.pop())\n",
    "        print(f\"Moving disks pole-1-->{source_stack}, pole-2--->{buffer_stack}, pole-3-->{dest_stack}\")\n",
    "    else:\n",
    "        moveTower(numDisks-1, source_stack,dest_stack,buffer_stack)\n",
    "        dest_stack.append(source_stack.pop())\n",
    "        print(f\"Moving disks pole-1-->{source_stack}, pole-2--->{buffer_stack}, pole-3-->{dest_stack}\")\n",
    "        moveTower(numDisks-1, buffer_stack, source_stack, dest_stack)"
   ]
  },
  {
   "cell_type": "code",
   "execution_count": 2,
   "id": "2e52771d",
   "metadata": {},
   "outputs": [
    {
     "name": "stdout",
     "output_type": "stream",
     "text": [
      "Enter no.of disks : 5\n",
      "Starting of disks pole_1-->[5, 4, 3, 2, 1], pole_2-->[], pole_3-->[]\n",
      "Moving disks pole-1-->[5, 4, 3, 2], pole-2--->[], pole-3-->[1]\n",
      "Moving disks pole-1-->[5, 4, 3], pole-2--->[1], pole-3-->[2]\n",
      "Moving disks pole-1-->[], pole-2--->[5, 4, 3], pole-3-->[2, 1]\n",
      "Moving disks pole-1-->[5, 4], pole-2--->[2, 1], pole-3-->[3]\n",
      "Moving disks pole-1-->[2], pole-2--->[3], pole-3-->[5, 4, 1]\n",
      "Moving disks pole-1-->[], pole-2--->[5, 4, 1], pole-3-->[3, 2]\n",
      "Moving disks pole-1-->[5, 4], pole-2--->[], pole-3-->[3, 2, 1]\n",
      "Moving disks pole-1-->[5], pole-2--->[3, 2, 1], pole-3-->[4]\n",
      "Moving disks pole-1-->[3, 2], pole-2--->[5], pole-3-->[4, 1]\n",
      "Moving disks pole-1-->[3], pole-2--->[4, 1], pole-3-->[5, 2]\n",
      "Moving disks pole-1-->[4], pole-2--->[3], pole-3-->[5, 2, 1]\n",
      "Moving disks pole-1-->[], pole-2--->[5, 2, 1], pole-3-->[4, 3]\n",
      "Moving disks pole-1-->[5, 2], pole-2--->[4, 3], pole-3-->[1]\n",
      "Moving disks pole-1-->[5], pole-2--->[1], pole-3-->[4, 3, 2]\n",
      "Moving disks pole-1-->[], pole-2--->[5], pole-3-->[4, 3, 2, 1]\n",
      "Moving disks pole-1-->[], pole-2--->[4, 3, 2, 1], pole-3-->[5]\n",
      "Moving disks pole-1-->[4, 3, 2], pole-2--->[5], pole-3-->[1]\n",
      "Moving disks pole-1-->[4, 3], pole-2--->[1], pole-3-->[5, 2]\n",
      "Moving disks pole-1-->[], pole-2--->[4, 3], pole-3-->[5, 2, 1]\n",
      "Moving disks pole-1-->[4], pole-2--->[5, 2, 1], pole-3-->[3]\n",
      "Moving disks pole-1-->[5, 2], pole-2--->[3], pole-3-->[4, 1]\n",
      "Moving disks pole-1-->[5], pole-2--->[4, 1], pole-3-->[3, 2]\n",
      "Moving disks pole-1-->[4], pole-2--->[5], pole-3-->[3, 2, 1]\n",
      "Moving disks pole-1-->[], pole-2--->[3, 2, 1], pole-3-->[5, 4]\n",
      "Moving disks pole-1-->[3, 2], pole-2--->[], pole-3-->[5, 4, 1]\n",
      "Moving disks pole-1-->[3], pole-2--->[5, 4, 1], pole-3-->[2]\n",
      "Moving disks pole-1-->[5, 4], pole-2--->[3], pole-3-->[2, 1]\n",
      "Moving disks pole-1-->[], pole-2--->[2, 1], pole-3-->[5, 4, 3]\n",
      "Moving disks pole-1-->[2], pole-2--->[5, 4, 3], pole-3-->[1]\n",
      "Moving disks pole-1-->[], pole-2--->[1], pole-3-->[5, 4, 3, 2]\n",
      "Moving disks pole-1-->[], pole-2--->[], pole-3-->[5, 4, 3, 2, 1]\n"
     ]
    }
   ],
   "source": [
    "source_pole = []\n",
    "helper_pole = []\n",
    "dest_pole = []\n",
    "no_of_disks = int(input('Enter no.of disks : '))\n",
    "for i in range(no_of_disks, 0, -1):\n",
    "    source_pole.append(i)\n",
    "print(f\"Starting of disks pole_1-->{source_pole}, pole_2-->{helper_pole}, pole_3-->{dest_pole}\")   \n",
    "moveTower(no_of_disks, source_pole, helper_pole, dest_pole)"
   ]
  },
  {
   "cell_type": "code",
   "execution_count": null,
   "id": "0ee49bcf",
   "metadata": {},
   "outputs": [],
   "source": []
  }
 ],
 "metadata": {
  "kernelspec": {
   "display_name": "Python 3 (ipykernel)",
   "language": "python",
   "name": "python3"
  },
  "language_info": {
   "codemirror_mode": {
    "name": "ipython",
    "version": 3
   },
   "file_extension": ".py",
   "mimetype": "text/x-python",
   "name": "python",
   "nbconvert_exporter": "python",
   "pygments_lexer": "ipython3",
   "version": "3.10.4"
  }
 },
 "nbformat": 4,
 "nbformat_minor": 5
}
