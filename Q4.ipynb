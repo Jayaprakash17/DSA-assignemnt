{
 "cells": [
  {
   "cell_type": "markdown",
   "id": "3901d6c9",
   "metadata": {},
   "source": [
    "### Q4. Write a program to print the first non-repeated character from a string?\n"
   ]
  },
  {
   "cell_type": "code",
   "execution_count": 6,
   "id": "72d97e8b",
   "metadata": {},
   "outputs": [
    {
     "name": "stdout",
     "output_type": "stream",
     "text": [
      "Give a string to check : character\n",
      "The first non repeated character is h\n"
     ]
    }
   ],
   "source": [
    "def non_repeatedchar(string):\n",
    "    for i in string:\n",
    "        if string.count(i) == 1:\n",
    "            return f\"The first non repeated character is {i}\"\n",
    "    return \" There are no  non repeated characters\"\n",
    "        \n",
    "string = input(\"Give a string to check : \")\n",
    "\n",
    "print(non_repeatedchar(string))\n"
   ]
  },
  {
   "cell_type": "code",
   "execution_count": null,
   "id": "11e29b37",
   "metadata": {},
   "outputs": [],
   "source": []
  }
 ],
 "metadata": {
  "kernelspec": {
   "display_name": "Python 3 (ipykernel)",
   "language": "python",
   "name": "python3"
  },
  "language_info": {
   "codemirror_mode": {
    "name": "ipython",
    "version": 3
   },
   "file_extension": ".py",
   "mimetype": "text/x-python",
   "name": "python",
   "nbconvert_exporter": "python",
   "pygments_lexer": "ipython3",
   "version": "3.10.4"
  }
 },
 "nbformat": 4,
 "nbformat_minor": 5
}
