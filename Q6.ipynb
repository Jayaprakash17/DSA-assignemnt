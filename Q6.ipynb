{
 "cells": [
  {
   "cell_type": "markdown",
   "id": "d268f94b",
   "metadata": {},
   "source": [
    "### Q6. Read about infix, prefix, and postfix expressions. Write a program to convert postfix to prefix expression."
   ]
  },
  {
   "cell_type": "code",
   "execution_count": 3,
   "id": "9e6e4344",
   "metadata": {},
   "outputs": [
    {
     "name": "stdout",
     "output_type": "stream",
     "text": [
      " Give a postfix expression : AB+CD-*EF/GH+/*\n",
      "Prefix expression : **+AB-CD//EF+GH\n"
     ]
    }
   ],
   "source": [
    "string = input(\" Give a postfix expression : \")\n",
    "\n",
    "stack = []\n",
    "\n",
    "operators = [\"+\", \"-\", \"/\", \"*\", \"^\"]\n",
    "\n",
    "\n",
    "for i in range(len(string)):\n",
    "    letter = string[i]\n",
    "    \n",
    "    if letter in operators:\n",
    "        \n",
    "        a = stack.pop()\n",
    "        b = stack.pop()\n",
    "        \n",
    "        temp = letter + b + a\n",
    "        \n",
    "        stack.append(temp)\n",
    "        \n",
    "    else:\n",
    "        \n",
    "        stack.append(letter)\n",
    "        \n",
    "final = \"\".join(stack)\n",
    "print(f\"Prefix expression : {final}\")"
   ]
  },
  {
   "cell_type": "code",
   "execution_count": null,
   "id": "57274fc1",
   "metadata": {},
   "outputs": [],
   "source": []
  }
 ],
 "metadata": {
  "kernelspec": {
   "display_name": "Python 3 (ipykernel)",
   "language": "python",
   "name": "python3"
  },
  "language_info": {
   "codemirror_mode": {
    "name": "ipython",
    "version": 3
   },
   "file_extension": ".py",
   "mimetype": "text/x-python",
   "name": "python",
   "nbconvert_exporter": "python",
   "pygments_lexer": "ipython3",
   "version": "3.10.4"
  }
 },
 "nbformat": 4,
 "nbformat_minor": 5
}
