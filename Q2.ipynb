{
 "cells": [
  {
   "cell_type": "markdown",
   "id": "f2548ce5",
   "metadata": {},
   "source": [
    "### Q2. Write a program to reverse an array in place? In place means you cannot create a new array. You have to update the original array."
   ]
  },
  {
   "cell_type": "code",
   "execution_count": 7,
   "id": "67d955ae",
   "metadata": {},
   "outputs": [
    {
     "name": "stdout",
     "output_type": "stream",
     "text": [
      "Give an array to reverse separated by comma :1,2,3,4,5,6,7\n",
      "The reversed array : ['7', '6', '5', '4', '3', '2', '1']\n"
     ]
    }
   ],
   "source": [
    "def reverse_of_array(arr, first, last):\n",
    "    while first < last:\n",
    "        temp = arr[first]\n",
    "        arr[first] = arr[last]\n",
    "        arr[last] = temp\n",
    "        first +=1\n",
    "        last -=1\n",
    "\n",
    "array = input(\"Give an array to reverse separated by comma :\").split(',')\n",
    "\n",
    "reverse_of_array(array, 0, len(array)-1)\n",
    "        \n",
    "print(f\"The reversed array : {array}\")"
   ]
  },
  {
   "cell_type": "code",
   "execution_count": null,
   "id": "563e9ef5",
   "metadata": {},
   "outputs": [],
   "source": []
  }
 ],
 "metadata": {
  "kernelspec": {
   "display_name": "Python 3 (ipykernel)",
   "language": "python",
   "name": "python3"
  },
  "language_info": {
   "codemirror_mode": {
    "name": "ipython",
    "version": 3
   },
   "file_extension": ".py",
   "mimetype": "text/x-python",
   "name": "python",
   "nbconvert_exporter": "python",
   "pygments_lexer": "ipython3",
   "version": "3.10.4"
  }
 },
 "nbformat": 4,
 "nbformat_minor": 5
}
