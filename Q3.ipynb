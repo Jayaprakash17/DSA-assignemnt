{
 "cells": [
  {
   "cell_type": "markdown",
   "id": "14d2f41a",
   "metadata": {},
   "source": [
    "### Q3. Write a program to check if two strings are a rotation of each other?"
   ]
  },
  {
   "cell_type": "code",
   "execution_count": 2,
   "id": "7cc26066",
   "metadata": {},
   "outputs": [
    {
     "name": "stdout",
     "output_type": "stream",
     "text": [
      "Give string-1 : edyoda\n",
      "Give string-2 : odaedy\n",
      "Given strings are rotation of each other \n"
     ]
    }
   ],
   "source": [
    "def rotations(str1, str2):\n",
    "    if len(str1) != len(str2):\n",
    "        return \"Given strings are not rotation of each other \"\n",
    "    temp = str1 + str1\n",
    "    \n",
    "    if str2 in temp:\n",
    "        return \"Given strings are rotation of each other \"\n",
    "    else:\n",
    "        return \"Given strings are not rotation of each other \"\n",
    "    \n",
    "str1 = input(\"Give string-1 : \")\n",
    "str2 = input(\"Give string-2 : \")\n",
    "\n",
    "print(rotations(str1, str2))"
   ]
  },
  {
   "cell_type": "code",
   "execution_count": null,
   "id": "57b9e51f",
   "metadata": {},
   "outputs": [],
   "source": []
  }
 ],
 "metadata": {
  "kernelspec": {
   "display_name": "Python 3 (ipykernel)",
   "language": "python",
   "name": "python3"
  },
  "language_info": {
   "codemirror_mode": {
    "name": "ipython",
    "version": 3
   },
   "file_extension": ".py",
   "mimetype": "text/x-python",
   "name": "python",
   "nbconvert_exporter": "python",
   "pygments_lexer": "ipython3",
   "version": "3.10.4"
  }
 },
 "nbformat": 4,
 "nbformat_minor": 5
}
