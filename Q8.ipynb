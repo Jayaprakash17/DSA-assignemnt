{
 "cells": [
  {
   "cell_type": "markdown",
   "id": "eddfa665",
   "metadata": {},
   "source": [
    "### Q8. Write a program to check if all the brackets are closed in a given code snippet."
   ]
  },
  {
   "cell_type": "code",
   "execution_count": 6,
   "id": "dd6aeec4",
   "metadata": {},
   "outputs": [],
   "source": [
    "class Stack:\n",
    "    def __init__(self,limit):\n",
    "        self.limit = limit\n",
    "        self.elements = []\n",
    "        \n",
    "    def push(self,number):\n",
    "        if len(self.elements)== self.limit:\n",
    "            print('stack is full')\n",
    "        else:\n",
    "            self.elements.append(number)\n",
    "            \n",
    "    def pop(self):\n",
    "        if len(self.elements)==0:\n",
    "            print('The stack is empty')\n",
    "        else:\n",
    "            self.elements.pop()\n",
    "            \n",
    "    def peek(self):\n",
    "        if len(self.elements)==0:\n",
    "            print('The stack is empty')\n",
    "        else:\n",
    "            return self.elements[-1]\n",
    "    \n",
    "    def isEmpty(self):\n",
    "        if len(self.elements)== 0:\n",
    "            return True\n",
    "        else:\n",
    "            return False\n",
    "        \n",
    "    def isFull(self):\n",
    "        if len(self.elements)==self.limit:\n",
    "            return True\n",
    "        else:\n",
    "            return False\n",
    "        \n",
    "    def delete(self):\n",
    "        self.elements=[]\n",
    "        \n",
    "    def print_stack(self):\n",
    "        print('\\n---------------- Current stack values ------------------\\n')\n",
    "        for item in self.elements:\n",
    "            print(item,end=' ')"
   ]
  },
  {
   "cell_type": "code",
   "execution_count": 2,
   "id": "e9d1f56e",
   "metadata": {},
   "outputs": [],
   "source": [
    "def balance_text(text):\n",
    "    newstack = Stack(len(text))\n",
    "    \n",
    "    balance_dict = {'}':'{',')':'(',']':'['}\n",
    "    for char in text:\n",
    "        if char in ('(','{','['):\n",
    "            newstack.push(char)\n",
    "        elif char in (')','}',']'):  \n",
    "            if newstack.peek() == balance_dict.get(char):\n",
    "                newstack.pop()\n",
    "            else:\n",
    "                return \"The given string is not balanced\"\n",
    "    if newstack.isEmpty():\n",
    "        return \"The given string is balanced\"\n",
    "    else:\n",
    "        return \"The given string is not balanced\""
   ]
  },
  {
   "cell_type": "code",
   "execution_count": 7,
   "id": "6353f166",
   "metadata": {},
   "outputs": [
    {
     "name": "stdout",
     "output_type": "stream",
     "text": [
      "Give a string to check :{([{}])}\n",
      "The given string is balanced\n"
     ]
    }
   ],
   "source": [
    "text = input(\"Give a string to check :\")\n",
    "\n",
    "print(balance_text(text))"
   ]
  },
  {
   "cell_type": "code",
   "execution_count": 8,
   "id": "def8aa76",
   "metadata": {},
   "outputs": [
    {
     "name": "stdout",
     "output_type": "stream",
     "text": [
      "Give a string to check :{([{}])\n",
      "The given string is not balanced\n"
     ]
    }
   ],
   "source": [
    "text = input(\"Give a string to check :\")\n",
    "\n",
    "print(balance_text(text))\n"
   ]
  },
  {
   "cell_type": "code",
   "execution_count": null,
   "id": "a501d3c5",
   "metadata": {},
   "outputs": [],
   "source": []
  }
 ],
 "metadata": {
  "kernelspec": {
   "display_name": "Python 3 (ipykernel)",
   "language": "python",
   "name": "python3"
  },
  "language_info": {
   "codemirror_mode": {
    "name": "ipython",
    "version": 3
   },
   "file_extension": ".py",
   "mimetype": "text/x-python",
   "name": "python",
   "nbconvert_exporter": "python",
   "pygments_lexer": "ipython3",
   "version": "3.10.4"
  }
 },
 "nbformat": 4,
 "nbformat_minor": 5
}
