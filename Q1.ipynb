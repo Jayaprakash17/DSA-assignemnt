{
 "cells": [
  {
   "cell_type": "markdown",
   "id": "409f240b",
   "metadata": {},
   "source": [
    "### Q1. Write a program to find all pairs of an integer array whose sum is equal to a given number?\n"
   ]
  },
  {
   "cell_type": "code",
   "execution_count": 2,
   "id": "40b8b22f",
   "metadata": {},
   "outputs": [
    {
     "name": "stdout",
     "output_type": "stream",
     "text": [
      "Give the array separated by comma : -1,2,4,-2,6,8,9,1\n",
      "Give the sum: 7\n",
      "The pairs are -----> [(-1, 8), (-2, 9), (6, 1)]\n"
     ]
    }
   ],
   "source": [
    "def get_pairs(arr, length, sum):\n",
    "    unordered_map = {}\n",
    "    pairs = []\n",
    "    for i in range(0, length):\n",
    "        temp = sum - arr[i]\n",
    "        if temp in unordered_map:\n",
    "          pairs.append((temp, arr[i]))\n",
    "        unordered_map[arr[i]] = i\n",
    "    return pairs\n",
    "\n",
    "\n",
    "user_input = input(\"Give the array separated by comma : \").split(',')\n",
    "array = [int(i) for i in user_input]\n",
    "length = len(array)\n",
    "sum = int(input(\"Give the sum: \"))\n",
    "\n",
    "print(f\"The pairs are -----> {get_pairs(array, length, sum)}\")"
   ]
  },
  {
   "cell_type": "code",
   "execution_count": null,
   "id": "c6189367",
   "metadata": {},
   "outputs": [],
   "source": []
  }
 ],
 "metadata": {
  "kernelspec": {
   "display_name": "Python 3 (ipykernel)",
   "language": "python",
   "name": "python3"
  },
  "language_info": {
   "codemirror_mode": {
    "name": "ipython",
    "version": 3
   },
   "file_extension": ".py",
   "mimetype": "text/x-python",
   "name": "python",
   "nbconvert_exporter": "python",
   "pygments_lexer": "ipython3",
   "version": "3.10.4"
  }
 },
 "nbformat": 4,
 "nbformat_minor": 5
}
