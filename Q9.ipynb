{
 "cells": [
  {
   "cell_type": "markdown",
   "id": "abf927cc",
   "metadata": {},
   "source": [
    "### Q9. Write a program to reverse a stack."
   ]
  },
  {
   "cell_type": "code",
   "execution_count": 18,
   "id": "04598376",
   "metadata": {},
   "outputs": [],
   "source": [
    "class Stack:\n",
    "    def __init__(self,limit):\n",
    "        self.limit = limit\n",
    "        self.elements = []\n",
    "        \n",
    "    def push(self,number):\n",
    "        if len(self.elements)== self.limit:\n",
    "            print('stack is full')\n",
    "        else:\n",
    "            self.elements.append(number)\n",
    "            \n",
    "    def pop(self):\n",
    "        if len(self.elements)==0:\n",
    "            print('The stack is empty')\n",
    "        else:\n",
    "            return self.elements.pop()\n",
    "            \n",
    "    def peek(self):\n",
    "        if len(self.elements)==0:\n",
    "            print('The stack is empty')\n",
    "        else:\n",
    "            return self.elements[-1]\n",
    "    \n",
    "    def isEmpty(self):\n",
    "        if len(self.elements)== 0:\n",
    "            return True\n",
    "        else:\n",
    "            return False\n",
    "        \n",
    "    def isFull(self):\n",
    "        if len(self.elements)==self.limit:\n",
    "            return True\n",
    "        else:\n",
    "            return False\n",
    "        \n",
    "    def delete(self):\n",
    "        self.elements=[]\n",
    "        \n",
    "    def insertAtBottom(self, item):\n",
    "        if self.isEmpty():\n",
    "            self.push(item)\n",
    "        else:\n",
    "            temp = self.pop()\n",
    "            self.insertAtBottom(item)\n",
    "            self.push(temp)\n",
    "        \n",
    "    def reverse_stack(self):\n",
    "        \"\"\"Reversing of a stack with in itself\"\"\"\n",
    "        if not self.isEmpty():\n",
    "            temp = self.pop()\n",
    "            self.reverse_stack()\n",
    "            self.insertAtBottom(temp)\n",
    "        \n",
    "    def print_stack(self):\n",
    "        for item in self.elements:\n",
    "            print(item,end=' ')"
   ]
  },
  {
   "cell_type": "code",
   "execution_count": 20,
   "id": "2e07f7ae",
   "metadata": {},
   "outputs": [
    {
     "name": "stdout",
     "output_type": "stream",
     "text": [
      "Give a input separated by comma : 1,2,3,4,5,6,7\n",
      "\n",
      "---------------- Current stack values ------------------\n",
      "\n",
      "1 2 3 4 5 6 7 \n",
      "---------------- Reversed stack values ------------------\n",
      "\n",
      "7 6 5 4 3 2 1 "
     ]
    }
   ],
   "source": [
    "user_input = input(\"Give a input separated by comma : \").split(',')\n",
    "my_stack = Stack(len(user_input))\n",
    "for i in user_input:\n",
    "    my_stack.push(i)\n",
    "print('\\n---------------- Current stack values ------------------\\n')\n",
    "my_stack.print_stack()\n",
    "\n",
    "my_stack.reverse_stack()\n",
    "\n",
    "print('\\n---------------- Reversed stack values ------------------\\n')\n",
    "my_stack.print_stack()"
   ]
  },
  {
   "cell_type": "code",
   "execution_count": null,
   "id": "57ad1d44",
   "metadata": {},
   "outputs": [],
   "source": []
  }
 ],
 "metadata": {
  "kernelspec": {
   "display_name": "Python 3 (ipykernel)",
   "language": "python",
   "name": "python3"
  },
  "language_info": {
   "codemirror_mode": {
    "name": "ipython",
    "version": 3
   },
   "file_extension": ".py",
   "mimetype": "text/x-python",
   "name": "python",
   "nbconvert_exporter": "python",
   "pygments_lexer": "ipython3",
   "version": "3.10.4"
  }
 },
 "nbformat": 4,
 "nbformat_minor": 5
}
