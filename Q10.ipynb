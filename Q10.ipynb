{
 "cells": [
  {
   "cell_type": "markdown",
   "id": "a94490a9",
   "metadata": {},
   "source": [
    "### Q10. Write a program to find the smallest number using a stack.\n",
    "\n"
   ]
  },
  {
   "cell_type": "code",
   "execution_count": 9,
   "id": "4c5a9196",
   "metadata": {},
   "outputs": [],
   "source": [
    "class Stack:\n",
    "    def __init__(self,limit):\n",
    "        self.limit = limit\n",
    "        self.elements = []\n",
    "        \n",
    "    def push(self,number):\n",
    "        if len(self.elements)== self.limit:\n",
    "            print('stack is full')\n",
    "        else:\n",
    "            self.elements.append(number)\n",
    "            \n",
    "    def pop(self):\n",
    "        if len(self.elements)==0:\n",
    "            print('The stack is empty')\n",
    "        else:\n",
    "            self.elements.pop()\n",
    "            \n",
    "    def peek(self):\n",
    "        if len(self.elements)==0:\n",
    "            print('The stack is empty')\n",
    "        else:\n",
    "            return self.elements[-1]\n",
    "    \n",
    "    def isEmpty(self):\n",
    "        if len(self.elements)== 0:\n",
    "            return True\n",
    "        else:\n",
    "            return False\n",
    "        \n",
    "    def isFull(self):\n",
    "        if len(self.elements)==self.limit:\n",
    "            return True\n",
    "        else:\n",
    "            return False\n",
    "        \n",
    "    def delete(self):\n",
    "        self.elements=[]\n",
    "        \n",
    "    def get_min(self):\n",
    "        if not self.isEmpty():\n",
    "            n = 1000000000\n",
    "            for i in self.elements:\n",
    "                if i < n :\n",
    "                    n = i\n",
    "        return n\n",
    "        \n",
    "    def print_stack(self):\n",
    "        print('\\n---------------- Current stack values ------------------\\n')\n",
    "        for item in self.elements:\n",
    "            print(item,end=' ')"
   ]
  },
  {
   "cell_type": "code",
   "execution_count": 14,
   "id": "6c67447d",
   "metadata": {},
   "outputs": [
    {
     "name": "stdout",
     "output_type": "stream",
     "text": [
      "Give the numbers separated by comma :87,67,87,98,45,9,10,1,-1\n",
      "\n",
      "---------------- Current stack values ------------------\n",
      "\n",
      "87 67 87 98 45 9 10 1 -1 \n",
      "\n",
      "The minimum number in the stack is -1\n",
      "\n"
     ]
    }
   ],
   "source": [
    "user_input = input(\"Give the numbers separated by comma :\").split(',')\n",
    "\n",
    "my_stack = Stack(len(user_input))\n",
    "\n",
    "for i in user_input:\n",
    "    my_stack.push(int(i))\n",
    "    \n",
    "my_stack.print_stack()\n",
    "    \n",
    "print(f\"\\n\\nThe minimum number in the stack is {my_stack.get_min()}\\n\")"
   ]
  },
  {
   "cell_type": "code",
   "execution_count": null,
   "id": "ca5c2860",
   "metadata": {},
   "outputs": [],
   "source": []
  }
 ],
 "metadata": {
  "kernelspec": {
   "display_name": "Python 3 (ipykernel)",
   "language": "python",
   "name": "python3"
  },
  "language_info": {
   "codemirror_mode": {
    "name": "ipython",
    "version": 3
   },
   "file_extension": ".py",
   "mimetype": "text/x-python",
   "name": "python",
   "nbconvert_exporter": "python",
   "pygments_lexer": "ipython3",
   "version": "3.10.4"
  }
 },
 "nbformat": 4,
 "nbformat_minor": 5
}
