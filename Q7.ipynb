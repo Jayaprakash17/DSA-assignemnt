{
 "cells": [
  {
   "cell_type": "markdown",
   "id": "7534f469",
   "metadata": {},
   "source": [
    "### Q7. Write a program to convert prefix expression to infix expression."
   ]
  },
  {
   "cell_type": "code",
   "execution_count": 3,
   "id": "3789dbe9",
   "metadata": {},
   "outputs": [
    {
     "name": "stdout",
     "output_type": "stream",
     "text": [
      " Give a prefix expression : **+AB-CD//EF+GH\n",
      "Infix expression : (((A+B)*(C-D))*((E/F)/(G+H)))\n"
     ]
    }
   ],
   "source": [
    "string = input(\" Give a prefix expression : \")\n",
    "\n",
    "stack = []\n",
    "\n",
    "operators = [\"+\", \"-\", \"/\", \"*\", \"^\"]\n",
    "\n",
    "\n",
    "for i in range(len(string)-1, -1, -1):\n",
    "    letter = string[i]\n",
    "    \n",
    "    if letter in operators:\n",
    "        \n",
    "        a = stack.pop()\n",
    "        b = stack.pop()\n",
    "        \n",
    "        temp =  \"(\"+a+ letter  + b+ \")\"\n",
    "        \n",
    "        stack.append(temp)\n",
    "        \n",
    "    else:\n",
    "        \n",
    "        stack.append(letter)\n",
    "        \n",
    "final = \"\".join(stack)\n",
    "print(f\"Infix expression : {final}\")"
   ]
  },
  {
   "cell_type": "code",
   "execution_count": null,
   "id": "8c6b4285",
   "metadata": {},
   "outputs": [],
   "source": []
  }
 ],
 "metadata": {
  "kernelspec": {
   "display_name": "Python 3 (ipykernel)",
   "language": "python",
   "name": "python3"
  },
  "language_info": {
   "codemirror_mode": {
    "name": "ipython",
    "version": 3
   },
   "file_extension": ".py",
   "mimetype": "text/x-python",
   "name": "python",
   "nbconvert_exporter": "python",
   "pygments_lexer": "ipython3",
   "version": "3.10.4"
  }
 },
 "nbformat": 4,
 "nbformat_minor": 5
}
